{
  "nbformat": 4,
  "nbformat_minor": 0,
  "metadata": {
    "colab": {
      "name": "Mini_Projects_2/ part 2.ipynb",
      "provenance": [],
      "include_colab_link": true
    },
    "kernelspec": {
      "name": "python3",
      "display_name": "Python 3"
    }
  },
  "cells": [
    {
      "cell_type": "markdown",
      "metadata": {
        "id": "view-in-github",
        "colab_type": "text"
      },
      "source": [
        "<a href=\"https://colab.research.google.com/github/mohamed-adel48/Machine-Learning-Training/blob/main/assignment%202%20part%202.ipynb\" target=\"_parent\"><img src=\"https://colab.research.google.com/assets/colab-badge.svg\" alt=\"Open In Colab\"/></a>"
      ]
    },
    {
      "cell_type": "markdown",
      "metadata": {
        "id": "c2sSEq3uSurn"
      },
      "source": [
        "# Files and Exceptions"
      ]
    },
    {
      "cell_type": "markdown",
      "metadata": {
        "id": "qw2XyRs-TWIF"
      },
      "source": [
        "**8. Sum of Numbers** <br>\n",
        "Assume that a file containing a series of integers is named numbers.txt and exists on the computer’s disk. Write a program that reads all of the numbers stored in the file and calculates their total.\n"
      ]
    },
    {
      "cell_type": "code",
      "metadata": {
        "id": "92EStR9KSu8N"
      },
      "source": [
        "def main():\n",
        "    total = 0\n",
        "    infile = open('numbers.txt', 'r')\n",
        "    for line in infile:\n",
        "            amount = int(line)\n",
        "            total+=amount\n",
        "            \n",
        "\n",
        "    infile.close()\n",
        "    print(total)\n",
        "\n",
        "\n",
        "main()"
      ],
      "execution_count": null,
      "outputs": []
    },
    {
      "cell_type": "code",
      "metadata": {
        "id": "B7GImG_lSu-u"
      },
      "source": [
        ""
      ],
      "execution_count": null,
      "outputs": []
    },
    {
      "cell_type": "markdown",
      "metadata": {
        "id": "gW0mWcdDVgK4"
      },
      "source": [
        "**9. Average of Numbers** <br>\n",
        "Assume that a file containing a series of integers is named numbers.txt and exists on the computer’s disk. Write a program that calculates the average of all the numbers stored in\n",
        "the file"
      ]
    },
    {
      "cell_type": "code",
      "metadata": {
        "id": "3-DZx-vnSvCe"
      },
      "source": [
        "def main():\n",
        "    total = 0\n",
        "    count = 0\n",
        "    infile = open('numbers.txt', 'r')\n",
        "    for line in infile:\n",
        "            amount = int(line)\n",
        "            total+=amount\n",
        "            count+=1\n",
        "            average = total/count\n",
        "\n",
        "\n",
        "    infile.close()\n",
        "    print(total)\n",
        "    print(average)"
      ],
      "execution_count": null,
      "outputs": []
    },
    {
      "cell_type": "markdown",
      "metadata": {
        "id": "vjchCYETVwPx"
      },
      "source": [
        "**10. Random Number File Writer**<br>\n",
        "Write a program that writes a series of random numbers to a file. Each random number should be in the range of 1 \n",
        "through 500. The application should let the user specify how\n",
        "many random numbers the file will hold.\n"
      ]
    },
    {
      "cell_type": "code",
      "metadata": {
        "id": "DCyba_BZVxLF"
      },
      "source": [
        "import random\n",
        "def main():\n",
        "    random_nums =int(input('How many random numbers?: '))\n",
        "    random_file = open('random.txt','w')\n",
        "    for line in range(1,random_nums+1):\n",
        "        line = random.randint(1, 500)\n",
        "        random_file.write(str(line) +'\\n')\n",
        "        print(line)\n",
        "\n",
        "    random_file.close()\n",
        "    print('Data written to random.txt.')\n",
        "main()\n"
      ],
      "execution_count": null,
      "outputs": []
    },
    {
      "cell_type": "code",
      "metadata": {
        "id": "uZ7CQJM0VxN5"
      },
      "source": [
        ""
      ],
      "execution_count": null,
      "outputs": []
    },
    {
      "cell_type": "markdown",
      "metadata": {
        "id": "p75ZKqbXWMdY"
      },
      "source": [
        "**11.  Exception Handing** <br>\n",
        "Modify the program that you wrote for Exercise 9 so it handles the following exceptions: <br>\n",
        "* It should handle any IOError exceptions that are raised when the file is opened and data\n",
        "is read from it. <br>\n",
        "* It should handle any ValueError exceptions that are raised when the items that are read from the file are converted to a number."
      ]
    },
    {
      "cell_type": "code",
      "metadata": {
        "id": "22SOHQbrVxRE"
      },
      "source": [
        "def main():\n",
        "    try:\n",
        "        total = 0\n",
        "        count = 0\n",
        "        infile = open('numbers.txt', 'r')\n",
        "        for line in infile:\n",
        "                amount = int(line)\n",
        "                total+=amount\n",
        "                count+=1\n",
        "                average = total/count\n",
        "\n",
        "\n",
        "        infile.close()\n",
        "        print(total)\n",
        "        print(average)\n",
        "    except IOError:\n",
        "        print('An error occured trying to read the file.')\n",
        "    except ValueError:\n",
        "        print('Non-numeric data found in the file.')\n",
        "    except:\n",
        "        print('An error occured.')\n",
        "main()"
      ],
      "execution_count": null,
      "outputs": []
    },
    {
      "cell_type": "code",
      "metadata": {
        "id": "3p0MENR_WrBV"
      },
      "source": [
        ""
      ],
      "execution_count": null,
      "outputs": []
    }
  ]
}